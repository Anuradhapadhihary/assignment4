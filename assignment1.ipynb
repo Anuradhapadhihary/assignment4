{
 "cells": [
  {
   "cell_type": "markdown",
   "metadata": {},
   "source": [
    "check no is even or odd"
   ]
  },
  {
   "cell_type": "code",
   "execution_count": 6,
   "metadata": {},
   "outputs": [
    {
     "name": "stdout",
     "output_type": "stream",
     "text": [
      "enter a no6\n",
      "6 is an even no.\n"
     ]
    }
   ],
   "source": [
    "a=int(input(\"enter a no\"))\n",
    "if(a%2)==0:\n",
    "    print(\"{0} is an even no.\".format(a))\n",
    "else:\n",
    "    print(\"{0} is an odd no.\".format(a))"
   ]
  },
  {
   "cell_type": "markdown",
   "metadata": {},
   "source": [
    "print the largest no of the 3 nos"
   ]
  },
  {
   "cell_type": "code",
   "execution_count": 8,
   "metadata": {},
   "outputs": [
    {
     "name": "stdout",
     "output_type": "stream",
     "text": [
      "enter 1st no3\n",
      "enter 2nd no4\n",
      "enter 3rd no5\n",
      "5 is greatest\n"
     ]
    }
   ],
   "source": [
    "a=int(input(\"enter 1st no\"))\n",
    "b=int(input(\"enter 2nd no\"))\n",
    "c=int(input(\"enter 3rd no\"))\n",
    "if(a>b) and (a>c):\n",
    "    print(\"{0} is greatest\".format(a))\n",
    "elif(b>c) and (b>a):\n",
    "    print(\"{0} is greatest\".format(b))\n",
    "else:\n",
    "   print(\"{0} is greatest\".format(c))\n",
    "    "
   ]
  },
  {
   "cell_type": "markdown",
   "metadata": {},
   "source": [
    "sum of all 3 integer inputs"
   ]
  },
  {
   "cell_type": "code",
   "execution_count": 9,
   "metadata": {},
   "outputs": [
    {
     "name": "stdout",
     "output_type": "stream",
     "text": [
      "enter 1st no5\n",
      "enter 2nd no3\n",
      "enter 3rd no7\n",
      "sum is15\n"
     ]
    }
   ],
   "source": [
    "a=int(input(\"enter 1st no\"))\n",
    "b=int(input(\"enter 2nd no\"))\n",
    "c=int(input(\"enter 3rd no\"))\n",
    "sum=a+b+c\n",
    "print(\"sum is{0}\".format(sum))"
   ]
  },
  {
   "cell_type": "markdown",
   "metadata": {},
   "source": [
    "enter 3 integer and print sum of non duplicate numbers"
   ]
  },
  {
   "cell_type": "code",
   "execution_count": 10,
   "metadata": {},
   "outputs": [
    {
     "name": "stdout",
     "output_type": "stream",
     "text": [
      "enter 1st no5\n",
      "enter 2nd no2\n",
      "enter 3rd no6\n",
      "13\n"
     ]
    }
   ],
   "source": [
    "a=int(input(\"enter 1st no\"))\n",
    "b=int(input(\"enter 2nd no\"))\n",
    "c=int(input(\"enter 3rd no\"))\n",
    "if(a==b) and (a!=c):\n",
    "  s=c\n",
    "  print(s)\n",
    "elif(b==c) and (a!=b):\n",
    "  s=a\n",
    "  print(s)\n",
    "elif(a==c) and (b!=c):\n",
    "  s=b\n",
    "  print(s)\n",
    "elif(a!=b!=c):\n",
    "  s=a+b+c\n",
    "  print(s)\n",
    "else:\n",
    "    print(\"all are duplicate nos\")    \n",
    "    "
   ]
  },
  {
   "cell_type": "markdown",
   "metadata": {},
   "source": [
    "5.to test divisibility of a number with another numbers"
   ]
  },
  {
   "cell_type": "code",
   "execution_count": 11,
   "metadata": {},
   "outputs": [
    {
     "name": "stdout",
     "output_type": "stream",
     "text": [
      "enter 1st no5\n",
      "enter 2nd no6\n",
      "5 is not divisible by 6\n"
     ]
    }
   ],
   "source": [
    "a=int(input(\"enter 1st no\"))\n",
    "b=int(input(\"enter 2nd no\"))\n",
    "if(a%b==0):\n",
    "    print(a,\"divisible by\",b)\n",
    "else:\n",
    "    print(a,\"is not divisible by\",b)"
   ]
  },
  {
   "cell_type": "markdown",
   "metadata": {},
   "source": [
    "6.find the multiple of a no out of given five no"
   ]
  },
  {
   "cell_type": "code",
   "execution_count": 13,
   "metadata": {},
   "outputs": [
    {
     "name": "stdout",
     "output_type": "stream",
     "text": [
      "enter 1st no6\n",
      "6 * 1 = 6\n",
      "6 * 2 = 12\n",
      "6 * 3 = 18\n",
      "6 * 4 = 24\n",
      "6 * 5 = 30\n"
     ]
    }
   ],
   "source": [
    "a=int(input(\"enter 1st no\"))\n",
    "for b in range(1,6):\n",
    "    print(a,\"*\",b,\"=\",a*b)"
   ]
  },
  {
   "cell_type": "markdown",
   "metadata": {},
   "source": [
    "7. calculate area and perimeter of a circle"
   ]
  },
  {
   "cell_type": "code",
   "execution_count": null,
   "metadata": {},
   "outputs": [],
   "source": [
    "r=int(input(\"enter the radius\"))\n",
    "perimeter=2*3.14*r\n",
    "area=3.14*r*r\n",
    "print(\"perimeter of teh circle is\",perimeter)\n",
    "print(\"area of th circle is\",area)"
   ]
  },
  {
   "cell_type": "markdown",
   "metadata": {},
   "source": [
    "8.if else statement"
   ]
  },
  {
   "cell_type": "code",
   "execution_count": 2,
   "metadata": {},
   "outputs": [
    {
     "name": "stdout",
     "output_type": "stream",
     "text": [
      "enter the mark75\n",
      "c\n"
     ]
    }
   ],
   "source": [
    "#if  >=90 a\n",
    "#elif  >=80 <=90 b\n",
    "#elif  >=70 <=80c\n",
    "#else  fail\n",
    "mark=float(input(\"enter the mark\"))\n",
    "if(mark>=90):\n",
    "    print(\"a\")\n",
    "elif(mark>=80 and mark<=90):\n",
    "    print(\"b\")\n",
    "elif(mark>=70 and mark<=80):\n",
    "    print(\"c\")\n",
    "else:\n",
    "    print(\"fail\")"
   ]
  },
  {
   "cell_type": "markdown",
   "metadata": {},
   "source": [
    "9.read 2 no and an arithmetic operator and display the computed result"
   ]
  },
  {
   "cell_type": "code",
   "execution_count": 7,
   "metadata": {},
   "outputs": [
    {
     "name": "stdout",
     "output_type": "stream",
     "text": [
      "enter 1st no6\n",
      "enter 2nd no8\n",
      "enter the operator\n",
      "enter any operator in between them:+,-,*,/,%:+\n",
      "14\n"
     ]
    }
   ],
   "source": [
    "a=int(input(\"enter 1st no\"))\n",
    "b=int(input(\"enter 2nd no\"))\n",
    "print(\"enter the operator\")\n",
    "op=input(\"enter any operator in between them:+,-,*,/,%:\")\n",
    "result=0;\n",
    "if(op=='+'):\n",
    "    result=a+b\n",
    "    print(result)\n",
    "elif(op=='-'):\n",
    "    result=a-b\n",
    "    print(result)\n",
    "elif(op=='*'):\n",
    "    result=a*b\n",
    "    print(result)\n",
    "elif(op=='/'):\n",
    "    result=a/b\n",
    "    print(result)\n",
    "elif(op=='%'):\n",
    "    result=a%b\n",
    "    print(result)\n",
    "else:\n",
    "    print(\"the operator is not recogniged\")"
   ]
  },
  {
   "cell_type": "code",
   "execution_count": null,
   "metadata": {},
   "outputs": [],
   "source": []
  }
 ],
 "metadata": {
  "kernelspec": {
   "display_name": "Python 3",
   "language": "python",
   "name": "python3"
  },
  "language_info": {
   "codemirror_mode": {
    "name": "ipython",
    "version": 3
   },
   "file_extension": ".py",
   "mimetype": "text/x-python",
   "name": "python",
   "nbconvert_exporter": "python",
   "pygments_lexer": "ipython3",
   "version": "3.7.4"
  }
 },
 "nbformat": 4,
 "nbformat_minor": 2
}
